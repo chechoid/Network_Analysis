{
 "cells": [
  {
   "cell_type": "code",
   "execution_count": 1,
   "metadata": {
    "collapsed": true
   },
   "outputs": [],
   "source": [
    "import pandas as pd\n",
    "import numpy as np\n",
    "import networkx as nx\n",
    "import matplotlib.pyplot as plt\n",
    "%matplotlib inline"
   ]
  },
  {
   "cell_type": "code",
   "execution_count": 2,
   "metadata": {
    "collapsed": true
   },
   "outputs": [],
   "source": [
    "#inicialización\n",
    "graph = nx.Graph()"
   ]
  },
  {
   "cell_type": "code",
   "execution_count": 3,
   "metadata": {},
   "outputs": [],
   "source": [
    "#leer el archivo de datos a analizar\n",
    "df_hr = pd.read_csv('df_people.csv',encoding='latin-1')"
   ]
  },
  {
   "cell_type": "code",
   "execution_count": 4,
   "metadata": {},
   "outputs": [],
   "source": [
    "#Cargar las relaciones\n",
    "text_relaciones = open(\"relaciones_contactos.txt\", \"r\")"
   ]
  },
  {
   "cell_type": "code",
   "execution_count": 5,
   "metadata": {},
   "outputs": [],
   "source": [
    "relaciones = [('Maxi','Maria'),('Pedro','Juana'),('Fermin','Juan'),('Fermin','Emma')\n",
    "              ,('Fermin','Luis'),('Juan','Emma'),('Emma','Juan'),('German','Mario')\n",
    "              ,('German','Seba'),('Mario','Seba'),('Jose','Adrian'),('Jose','Adriana')\n",
    "              ,('Adrian','Adriana'),('Adrian','Esteban'),('Adriana','Esteban'),('Marcos','Maria')\n",
    "              ,('Marcos','Pedro'),('Marcos','Fermin'),('Marcos','Jose'),('Maria','Fermin')\n",
    "              ,('Maria','German'),('Maria','Jose'),('Maria','Adrian'),('Pedro','Fermin')\n",
    "              ,('Pedro','Jose'),('Pedro','Marina'),('Pedro','Maxi'),('Fermin','Marina')\n",
    "              ,('Fermin','Jose'),('Fermin','German')]"
   ]
  },
  {
   "cell_type": "code",
   "execution_count": 6,
   "metadata": {},
   "outputs": [],
   "source": [
    "#agrego todos los nodos\n",
    "#for node in df_hr['nombre']:\n",
    "#    graph.add_node(node,area=df_hr['area'])\n",
    "\n",
    "#df_hr['nombre']\n",
    "\n",
    "graph.add_nodes_from(df_hr['nombre'])"
   ]
  },
  {
   "cell_type": "code",
   "execution_count": 7,
   "metadata": {
    "scrolled": true
   },
   "outputs": [
    {
     "data": {
      "text/plain": [
       "{'Adrian': {'area': 'Redes'},\n",
       " 'Adriana': {'area': 'Redes'},\n",
       " 'Emma': {'area': 'Ventas'},\n",
       " 'Esteban': {'area': 'Redes'},\n",
       " 'Fermin': {'area': 'Ventas'},\n",
       " 'German': {'area': 'Administracion'},\n",
       " 'Jose': {'area': 'Redes'},\n",
       " 'Juan ': {'area': 'Ventas'},\n",
       " 'Juana': {'area': 'Finanzas'},\n",
       " 'Luis': {'area': 'Ventas'},\n",
       " 'Marcos': {'area': 'Gerencia'},\n",
       " 'Maria': {'area': 'Sistemas'},\n",
       " 'Marina': {'area': 'Contable'},\n",
       " 'Mario': {'area': 'Administracion'},\n",
       " 'Maxi': {'area': 'Sistemas'},\n",
       " 'Pedro': {'area': 'Finanzas'},\n",
       " 'Seba': {'area': 'Administracion'}}"
      ]
     },
     "execution_count": 7,
     "metadata": {},
     "output_type": "execute_result"
    }
   ],
   "source": [
    "area_list = df_hr[['nombre','area']].set_index('nombre').T.to_dict()\n",
    "area_list"
   ]
  },
  {
   "cell_type": "code",
   "execution_count": 8,
   "metadata": {},
   "outputs": [],
   "source": [
    "for node in graph.nodes():\n",
    "    nx.set_node_attributes(graph, area_list[node]['area'],'area')"
   ]
  },
  {
   "cell_type": "code",
   "execution_count": 9,
   "metadata": {},
   "outputs": [
    {
     "data": {
      "text/plain": [
       "{'area': 'Redes'}"
      ]
     },
     "execution_count": 9,
     "metadata": {},
     "output_type": "execute_result"
    }
   ],
   "source": [
    "graph.nodes['Maxi']"
   ]
  },
  {
   "cell_type": "code",
   "execution_count": 10,
   "metadata": {},
   "outputs": [
    {
     "data": {
      "text/plain": [
       "{'Adrian': 'Redes',\n",
       " 'Adriana': 'Redes',\n",
       " 'Emma': 'Redes',\n",
       " 'Esteban': 'Redes',\n",
       " 'Fermin': 'Redes',\n",
       " 'German': 'Redes',\n",
       " 'Jose': 'Redes',\n",
       " 'Juan ': 'Redes',\n",
       " 'Juana': 'Redes',\n",
       " 'Luis': 'Redes',\n",
       " 'Marcos': 'Redes',\n",
       " 'Maria': 'Redes',\n",
       " 'Marina': 'Redes',\n",
       " 'Mario': 'Redes',\n",
       " 'Maxi': 'Redes',\n",
       " 'Pedro': 'Redes',\n",
       " 'Seba': 'Redes'}"
      ]
     },
     "execution_count": 10,
     "metadata": {},
     "output_type": "execute_result"
    }
   ],
   "source": [
    "\n",
    "areas=nx.get_node_attributes(graph,'area') \n",
    "areas"
   ]
  },
  {
   "cell_type": "code",
   "execution_count": 11,
   "metadata": {},
   "outputs": [
    {
     "data": {
      "text/plain": [
       "NodeView(('Maxi', 'Maria', 'Pedro', 'Juana', 'Fermin', 'Juan ', 'Emma', 'Luis', 'Marcos', 'Marina', 'German', 'Mario', 'Seba', 'Jose', 'Adrian', 'Adriana', 'Esteban'))"
      ]
     },
     "execution_count": 11,
     "metadata": {},
     "output_type": "execute_result"
    }
   ],
   "source": [
    "graph.nodes"
   ]
  }
 ],
 "metadata": {
  "kernelspec": {
   "display_name": "Python 3",
   "language": "python",
   "name": "python3"
  },
  "language_info": {
   "codemirror_mode": {
    "name": "ipython",
    "version": 3
   },
   "file_extension": ".py",
   "mimetype": "text/x-python",
   "name": "python",
   "nbconvert_exporter": "python",
   "pygments_lexer": "ipython3",
   "version": "3.6.3"
  }
 },
 "nbformat": 4,
 "nbformat_minor": 2
}
